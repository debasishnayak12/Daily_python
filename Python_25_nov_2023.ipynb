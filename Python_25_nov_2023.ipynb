{
 "cells": [
  {
   "cell_type": "markdown",
   "id": "532cf507",
   "metadata": {},
   "source": [
    "# 62.\n",
    "- -Write a Python program to convert all units of time into seconds."
   ]
  },
  {
   "cell_type": "code",
   "execution_count": 4,
   "id": "da52616c",
   "metadata": {},
   "outputs": [
    {
     "name": "stdout",
     "output_type": "stream",
     "text": [
      "Enter days :1\n",
      "Enter hours :1\n",
      "Enter mins :1\n",
      "Enter the sec :1\n",
      "Total time is : 90061\n"
     ]
    }
   ],
   "source": [
    "days=int(input(\"Enter days :\"))*24*3600\n",
    "hours=int(input(\"Enter hours :\"))*3600\n",
    "mins=int(input(\"Enter mins :\"))*60\n",
    "sec=int(input(\"Enter the sec :\"))\n",
    "total_time=days+hours+mins+sec\n",
    "print(\"Total time is :\",total_time)"
   ]
  },
  {
   "cell_type": "markdown",
   "id": "1d1ec2d2",
   "metadata": {},
   "source": [
    "# 63.\n",
    "- Write a Python program to get an absolute file path."
   ]
  },
  {
   "cell_type": "code",
   "execution_count": 6,
   "id": "45c58544",
   "metadata": {},
   "outputs": [
    {
     "name": "stdout",
     "output_type": "stream",
     "text": [
      "Absolute file path ; C:\\Users\\madhu\\Desktop\\Daily_task\\test.csv\n"
     ]
    }
   ],
   "source": [
    "import os \n",
    "def absolute_filepath(file):\n",
    "    return os.path.abspath(file)\n",
    "print(\"Absolute file path ;\",absolute_filepath(\"test.csv\"))"
   ]
  },
  {
   "cell_type": "markdown",
   "id": "ac30d7db",
   "metadata": {},
   "source": [
    "# 64.\n",
    "-  Write a Python program that retrieves the date and time of file creation and modification."
   ]
  },
  {
   "cell_type": "code",
   "execution_count": 20,
   "id": "6237ec3c",
   "metadata": {},
   "outputs": [
    {
     "name": "stdout",
     "output_type": "stream",
     "text": [
      "created time :  Tue Nov 21 19:26:55 2023\n",
      "Modified time :  Tue Nov 21 10:34:57 2023\n"
     ]
    }
   ],
   "source": [
    "import os.path,time\n",
    "print(\"created time : \",  time.ctime(os.path.getctime(\"C:/Users/madhu/Downloads/credit_card_defaulter.csv\")))\n",
    "print(\"Modified time : \", time.ctime(os.path.getmtime(\"C:/Users/madhu/Downloads/credit_card_defaulter.csv\")))"
   ]
  },
  {
   "cell_type": "markdown",
   "id": "121353ef",
   "metadata": {},
   "source": [
    "# 65. \n",
    "- Write a Python program that converts seconds into days, hours, minutes, and seconds."
   ]
  },
  {
   "cell_type": "code",
   "execution_count": 25,
   "id": "4a68c94d",
   "metadata": {},
   "outputs": [
    {
     "name": "stdout",
     "output_type": "stream",
     "text": [
      "Enter time in seconds :348284\n",
      "d:h:m:s --> 4:0:44:44:\n"
     ]
    }
   ],
   "source": [
    "time=float(input(\"Enter time in seconds :\"))\n",
    "days=time//(24*3600)\n",
    "time=time % (24*3600)\n",
    "hr=time//3600\n",
    "time = time % 3600\n",
    "mn=time//60\n",
    "time %= 60\n",
    "sec=time\n",
    "\n",
    "print(\"d:h:m:s --> %d:%d:%d:%d:\" %(days,hr,mn,sec))"
   ]
  },
  {
   "cell_type": "code",
   "execution_count": null,
   "id": "e3427a74",
   "metadata": {},
   "outputs": [],
   "source": []
  }
 ],
 "metadata": {
  "kernelspec": {
   "display_name": "Python 3 (ipykernel)",
   "language": "python",
   "name": "python3"
  },
  "language_info": {
   "codemirror_mode": {
    "name": "ipython",
    "version": 3
   },
   "file_extension": ".py",
   "mimetype": "text/x-python",
   "name": "python",
   "nbconvert_exporter": "python",
   "pygments_lexer": "ipython3",
   "version": "3.10.9"
  }
 },
 "nbformat": 4,
 "nbformat_minor": 5
}
