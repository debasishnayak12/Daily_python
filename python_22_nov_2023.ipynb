{
 "cells": [
  {
   "cell_type": "markdown",
   "id": "31d9eb80",
   "metadata": {},
   "source": [
    "# 16. \n",
    "- Write a Python program to calculate the difference between a given number and 17. If the number is greater than 17, return twice the absolute difference.\n"
   ]
  },
  {
   "cell_type": "code",
   "execution_count": 1,
   "id": "c907cf58",
   "metadata": {},
   "outputs": [
    {
     "name": "stdout",
     "output_type": "stream",
     "text": [
      "46\n",
      "2\n"
     ]
    }
   ],
   "source": [
    "def diff(n):\n",
    "    if n<=17:\n",
    "        return (17-n)\n",
    "    else:\n",
    "        return (n-17)*2\n",
    "    \n",
    "print(diff(40))\n",
    "print(diff(15))"
   ]
  },
  {
   "cell_type": "markdown",
   "id": "ff48c85b",
   "metadata": {},
   "source": [
    "# 17.\n",
    "- Write a Python program to test whether a number is within 100 of 1000 or 2000."
   ]
  },
  {
   "cell_type": "code",
   "execution_count": 2,
   "id": "deebe508",
   "metadata": {},
   "outputs": [],
   "source": [
    "def near_to_thousand(n):\n",
    "    return ((abs(1000-n)<=100) or (abs(2000-n)<=100))"
   ]
  },
  {
   "cell_type": "code",
   "execution_count": 3,
   "id": "a4c17aba",
   "metadata": {},
   "outputs": [
    {
     "data": {
      "text/plain": [
       "True"
      ]
     },
     "execution_count": 3,
     "metadata": {},
     "output_type": "execute_result"
    }
   ],
   "source": [
    "near_to_thousand(980)"
   ]
  },
  {
   "cell_type": "code",
   "execution_count": 4,
   "id": "8581a0ef",
   "metadata": {},
   "outputs": [
    {
     "data": {
      "text/plain": [
       "True"
      ]
     },
     "execution_count": 4,
     "metadata": {},
     "output_type": "execute_result"
    }
   ],
   "source": [
    "near_to_thousand(1989)"
   ]
  },
  {
   "cell_type": "code",
   "execution_count": 5,
   "id": "710ad34c",
   "metadata": {},
   "outputs": [
    {
     "data": {
      "text/plain": [
       "False"
      ]
     },
     "execution_count": 5,
     "metadata": {},
     "output_type": "execute_result"
    }
   ],
   "source": [
    "near_to_thousand(1800)"
   ]
  },
  {
   "cell_type": "markdown",
   "id": "abcfeb53",
   "metadata": {},
   "source": [
    "# 18.\n",
    "- Write a Python program to calculate the sum of three given numbers. If the values are equal, return three times their sum."
   ]
  },
  {
   "cell_type": "code",
   "execution_count": 6,
   "id": "e0629a40",
   "metadata": {},
   "outputs": [],
   "source": [
    "def numbers(a,b,c):\n",
    "    if a==b==c :\n",
    "        return (a+b+c)*3\n",
    "    else:\n",
    "        return a+b+c\n",
    "        "
   ]
  },
  {
   "cell_type": "code",
   "execution_count": 7,
   "id": "39139321",
   "metadata": {},
   "outputs": [
    {
     "data": {
      "text/plain": [
       "108"
      ]
     },
     "execution_count": 7,
     "metadata": {},
     "output_type": "execute_result"
    }
   ],
   "source": [
    "numbers(12,12,12)"
   ]
  },
  {
   "cell_type": "markdown",
   "id": "c61901b2",
   "metadata": {},
   "source": [
    "# 19.\n",
    "- Write a Python program to get a newly-generated string from a given string where \"Is\" has been added to the front. Return the string unchanged if the given string already begins with \"Is\".\n"
   ]
  },
  {
   "cell_type": "code",
   "execution_count": 8,
   "id": "6dd2e310",
   "metadata": {},
   "outputs": [],
   "source": [
    "def given_string(string):\n",
    "\n",
    "    if string[:2]==\"Is\":\n",
    "        return string\n",
    "    else:\n",
    "        return \"Is\"+string\n",
    "    \n"
   ]
  },
  {
   "cell_type": "code",
   "execution_count": 9,
   "id": "5fa82eca",
   "metadata": {},
   "outputs": [
    {
     "data": {
      "text/plain": [
       "'Isrirj'"
      ]
     },
     "execution_count": 9,
     "metadata": {},
     "output_type": "execute_result"
    }
   ],
   "source": [
    "given_string(\"Isrirj\")"
   ]
  },
  {
   "cell_type": "code",
   "execution_count": 10,
   "id": "8590c722",
   "metadata": {},
   "outputs": [
    {
     "data": {
      "text/plain": [
       "'Isnfrijr'"
      ]
     },
     "execution_count": 10,
     "metadata": {},
     "output_type": "execute_result"
    }
   ],
   "source": [
    "given_string(\"nfrijr\")"
   ]
  },
  {
   "cell_type": "markdown",
   "id": "89939457",
   "metadata": {},
   "source": [
    "# 20. \n",
    "- Write a Python program that returns a string that is n (non-negative integer) copies of a given string."
   ]
  },
  {
   "cell_type": "code",
   "execution_count": 19,
   "id": "68552484",
   "metadata": {},
   "outputs": [],
   "source": [
    "def larger_string(text,n):\n",
    "    result=\"\"\n",
    "    for i in range(n):\n",
    "        result=result+text\n",
    "    return result"
   ]
  },
  {
   "cell_type": "code",
   "execution_count": 20,
   "id": "9245688b",
   "metadata": {},
   "outputs": [
    {
     "data": {
      "text/plain": [
       "'strstrstr'"
      ]
     },
     "execution_count": 20,
     "metadata": {},
     "output_type": "execute_result"
    }
   ],
   "source": [
    "larger_string(\"str\",3)"
   ]
  },
  {
   "cell_type": "markdown",
   "id": "a1bc1c18",
   "metadata": {},
   "source": []
  },
  {
   "cell_type": "markdown",
   "id": "65f831d6",
   "metadata": {},
   "source": [
    "# 21.\n",
    "- Write a Python program that determines whether a given number (accepted from the user) is even or odd, and prints an appropriate message to the user.\n"
   ]
  },
  {
   "cell_type": "code",
   "execution_count": 11,
   "id": "e82e3695",
   "metadata": {},
   "outputs": [
    {
     "name": "stdout",
     "output_type": "stream",
     "text": [
      "Enter the number :5\n",
      "The number is odd\n"
     ]
    }
   ],
   "source": [
    "n=int(input(\"Enter the number :\"))\n",
    "if n % 2==0:\n",
    "    print(\"The number is even\")\n",
    "    \n",
    "else:\n",
    "    print(\"The number is odd\")"
   ]
  },
  {
   "cell_type": "markdown",
   "id": "7a58482c",
   "metadata": {},
   "source": [
    "# 22. \n",
    "- Write a Python program to count the number 4 in a given list."
   ]
  },
  {
   "cell_type": "code",
   "execution_count": 12,
   "id": "d9bd3cd1",
   "metadata": {},
   "outputs": [],
   "source": [
    "\n",
    "def my_list(list_1):\n",
    "    for i in list_1:\n",
    "        if i==4:\n",
    "            return list_1.count(i)"
   ]
  },
  {
   "cell_type": "code",
   "execution_count": 13,
   "id": "7610a2d4",
   "metadata": {},
   "outputs": [
    {
     "data": {
      "text/plain": [
       "3"
      ]
     },
     "execution_count": 13,
     "metadata": {},
     "output_type": "execute_result"
    }
   ],
   "source": [
    "list_1=[1,4,3,4,3,4]\n",
    "my_list(list_1)"
   ]
  },
  {
   "cell_type": "markdown",
   "id": "6cb8d3b1",
   "metadata": {},
   "source": [
    "\n",
    "# 23.\n",
    "- Write a Python program to get n (non-negative integer) copies of the first 2 characters of a given string. Return n copies of the whole string if the length is less than 2."
   ]
  },
  {
   "cell_type": "code",
   "execution_count": 62,
   "id": "ec6b81fe",
   "metadata": {},
   "outputs": [],
   "source": [
    "def string_1(text,n):\n",
    "    result=\"\"\n",
    "    for i in range(n):\n",
    "        if len(text)>=2:\n",
    "            result=result+text[:2]\n",
    "        else:\n",
    "            result=result+text\n",
    "    return result\n",
    "      "
   ]
  },
  {
   "cell_type": "code",
   "execution_count": 65,
   "id": "637fdbe9",
   "metadata": {},
   "outputs": [
    {
     "data": {
      "text/plain": [
       "'uuuu'"
      ]
     },
     "execution_count": 65,
     "metadata": {},
     "output_type": "execute_result"
    }
   ],
   "source": [
    "string_1(\"uuhp\",2)"
   ]
  },
  {
   "cell_type": "markdown",
   "id": "42a1a4c6",
   "metadata": {},
   "source": [
    "# 24. \n",
    "- Write a Python program to test whether a passed letter is a vowel or not."
   ]
  },
  {
   "cell_type": "code",
   "execution_count": 66,
   "id": "c43a04a7",
   "metadata": {},
   "outputs": [],
   "source": [
    "def check_vowel(letter):\n",
    "    vowel=\"aeiou\"\n",
    "    return letter in vowel\n",
    "\n",
    "        "
   ]
  },
  {
   "cell_type": "code",
   "execution_count": 68,
   "id": "325be2a8",
   "metadata": {},
   "outputs": [
    {
     "data": {
      "text/plain": [
       "False"
      ]
     },
     "execution_count": 68,
     "metadata": {},
     "output_type": "execute_result"
    }
   ],
   "source": [
    "check_vowel(\"s\")"
   ]
  },
  {
   "cell_type": "code",
   "execution_count": 69,
   "id": "3ff22c00",
   "metadata": {},
   "outputs": [
    {
     "data": {
      "text/plain": [
       "True"
      ]
     },
     "execution_count": 69,
     "metadata": {},
     "output_type": "execute_result"
    }
   ],
   "source": [
    "check_vowel(\"o\")"
   ]
  },
  {
   "cell_type": "markdown",
   "id": "3afe71c0",
   "metadata": {},
   "source": [
    "# 25. \n",
    "- Write a Python program that checks whether a specified value is contained within a group of values."
   ]
  },
  {
   "cell_type": "code",
   "execution_count": 70,
   "id": "b0baf903",
   "metadata": {},
   "outputs": [],
   "source": [
    "def check_presence(n):\n",
    "    numbers=[1,2,3,4,5,6,7]\n",
    "    return n in numbers\n"
   ]
  },
  {
   "cell_type": "code",
   "execution_count": 71,
   "id": "c074f80c",
   "metadata": {},
   "outputs": [
    {
     "data": {
      "text/plain": [
       "True"
      ]
     },
     "execution_count": 71,
     "metadata": {},
     "output_type": "execute_result"
    }
   ],
   "source": [
    "check_presence(7)"
   ]
  },
  {
   "cell_type": "code",
   "execution_count": 72,
   "id": "347653b1",
   "metadata": {},
   "outputs": [
    {
     "data": {
      "text/plain": [
       "False"
      ]
     },
     "execution_count": 72,
     "metadata": {},
     "output_type": "execute_result"
    }
   ],
   "source": [
    "check_presence(9)"
   ]
  },
  {
   "cell_type": "markdown",
   "id": "7b46cb13",
   "metadata": {},
   "source": [
    "# 26.\n",
    "- Write a Python program to create a histogram from a given list of integers."
   ]
  },
  {
   "cell_type": "code",
   "execution_count": 78,
   "id": "f866da51",
   "metadata": {},
   "outputs": [],
   "source": [
    "def histogram(items):\n",
    "    output=\"\"\n",
    "    for i in items:\n",
    "        while i > 0:\n",
    "            output += \"*\"\n",
    "            i=i-1\n",
    "        print(output)"
   ]
  },
  {
   "cell_type": "code",
   "execution_count": 79,
   "id": "1426a6f5",
   "metadata": {},
   "outputs": [
    {
     "name": "stdout",
     "output_type": "stream",
     "text": [
      "*\n",
      "****\n",
      "*********\n",
      "****************\n"
     ]
    }
   ],
   "source": [
    "items=[1,3,5,7]\n",
    "histogram(items)"
   ]
  },
  {
   "cell_type": "markdown",
   "id": "3d6ea6d6",
   "metadata": {},
   "source": [
    "# 27.\n",
    "- Write a Python program that concatenates all elements in a list into a string and returns it."
   ]
  },
  {
   "cell_type": "code",
   "execution_count": 92,
   "id": "caf27ed2",
   "metadata": {},
   "outputs": [],
   "source": [
    "def conv_string(lst):\n",
    "    con_str=\"\"\n",
    "    for i in lst:\n",
    "        con_str += str(i)\n",
    "    return con_str"
   ]
  },
  {
   "cell_type": "code",
   "execution_count": 93,
   "id": "f9bdefda",
   "metadata": {},
   "outputs": [
    {
     "data": {
      "text/plain": [
       "'123'"
      ]
     },
     "execution_count": 93,
     "metadata": {},
     "output_type": "execute_result"
    }
   ],
   "source": [
    "lst=[1,2,3]\n",
    "conv_string (lst)"
   ]
  },
  {
   "cell_type": "markdown",
   "id": "58efa376",
   "metadata": {},
   "source": [
    "# 28. \n",
    "- Write a Python program to print all even numbers from a given list of numbers in the same order and stop printing any after 237 in the sequence."
   ]
  },
  {
   "cell_type": "code",
   "execution_count": 95,
   "id": "f08add2d",
   "metadata": {},
   "outputs": [
    {
     "name": "stdout",
     "output_type": "stream",
     "text": [
      "386\n",
      "462\n",
      "418\n",
      "344\n",
      "236\n",
      "566\n",
      "978\n",
      "328\n",
      "162\n",
      "758\n",
      "918\n",
      "237\n"
     ]
    }
   ],
   "source": [
    "numbers = [    \n",
    "    386, 462, 47, 418, 907, 344, 236, 375, 823, 566, 597, 978, 328, 615, 953, 345, \n",
    "    399, 162, 758, 219, 918, 237, 412, 566, 826, 248, 866, 950, 626, 949, 687, 217, \n",
    "    815, 67, 104, 58, 512, 24, 892, 894, 767, 553, 81, 379, 843, 831, 445, 742, 717, \n",
    "    958,743, 527\n",
    "    ]\n",
    "\n",
    "for i in numbers:\n",
    "    if i==237:\n",
    "        print(i)\n",
    "        break\n",
    "    elif i % 2 ==0:\n",
    "        print(i)"
   ]
  },
  {
   "cell_type": "markdown",
   "id": "28a968eb",
   "metadata": {},
   "source": [
    "# 29.\n",
    "- Write a Python program that prints out all colors from color_list_1 that are not present in color_list_2.\n",
    "- Test Data :\n",
    "- color_list_1 = set([\"White\", \"Black\", \"Red\"])\n",
    "- color_list_2 = set([\"Red\", \"Green\"])"
   ]
  },
  {
   "cell_type": "code",
   "execution_count": 108,
   "id": "ac1e2566",
   "metadata": {},
   "outputs": [
    {
     "name": "stdout",
     "output_type": "stream",
     "text": [
      "White\n",
      "Black\n"
     ]
    }
   ],
   "source": [
    "color_list_1 = set([\"White\", \"Black\", \"Red\"])\n",
    "color_list_2 = set([\"Red\", \"Green\"])\n",
    "for i in color_list_1:\n",
    "    if i not in color_list_2:\n",
    "        print(i)\n"
   ]
  },
  {
   "cell_type": "code",
   "execution_count": 104,
   "id": "8040a085",
   "metadata": {},
   "outputs": [
    {
     "name": "stdout",
     "output_type": "stream",
     "text": [
      "difference color : {'White', 'Black'}\n"
     ]
    }
   ],
   "source": [
    "#another method\n",
    "print('difference color :',color_list_1.difference(color_list_2))"
   ]
  },
  {
   "cell_type": "markdown",
   "id": "7891997c",
   "metadata": {},
   "source": [
    "# 30.\n",
    "- Write a Python program that will accept the base and height of a triangle and compute its area."
   ]
  },
  {
   "cell_type": "code",
   "execution_count": 122,
   "id": "24794f5c",
   "metadata": {},
   "outputs": [],
   "source": [
    "def area_triange(base,height):\n",
    "    area=(1/2)*base*height\n",
    "    print(\"Area of triangle is {}\".format(area))\n"
   ]
  },
  {
   "cell_type": "code",
   "execution_count": 123,
   "id": "8986d28c",
   "metadata": {},
   "outputs": [
    {
     "name": "stdout",
     "output_type": "stream",
     "text": [
      "Area of triangle is 25.0\n"
     ]
    }
   ],
   "source": [
    "area_triange(10,5)"
   ]
  },
  {
   "cell_type": "code",
   "execution_count": null,
   "id": "1fa5514d",
   "metadata": {},
   "outputs": [],
   "source": []
  },
  {
   "cell_type": "code",
   "execution_count": null,
   "id": "16007a32",
   "metadata": {},
   "outputs": [],
   "source": []
  }
 ],
 "metadata": {
  "kernelspec": {
   "display_name": "Python 3 (ipykernel)",
   "language": "python",
   "name": "python3"
  },
  "language_info": {
   "codemirror_mode": {
    "name": "ipython",
    "version": 3
   },
   "file_extension": ".py",
   "mimetype": "text/x-python",
   "name": "python",
   "nbconvert_exporter": "python",
   "pygments_lexer": "ipython3",
   "version": "3.10.9"
  }
 },
 "nbformat": 4,
 "nbformat_minor": 5
}
