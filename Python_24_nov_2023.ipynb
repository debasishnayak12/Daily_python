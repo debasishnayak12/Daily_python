{
 "cells": [
  {
   "cell_type": "markdown",
   "id": "46112da7",
   "metadata": {},
   "source": [
    "# 46.\n",
    "- Write a Python program to retrieve the path and name of the file currently being executed."
   ]
  },
  {
   "cell_type": "code",
   "execution_count": 4,
   "id": "a1db492f",
   "metadata": {},
   "outputs": [
    {
     "name": "stdout",
     "output_type": "stream",
     "text": [
      "C:\\Users\\madhu\\Desktop\\Daily_task\\Credit_card_preditction\n"
     ]
    }
   ],
   "source": [
    "import os\n",
    "print(os.path.realpath(\"Credit_card_preditction\"))"
   ]
  },
  {
   "cell_type": "markdown",
   "id": "1b159c4b",
   "metadata": {},
   "source": [
    "# 47.\n",
    "- Write a Python program to find out the number of CPUs used."
   ]
  },
  {
   "cell_type": "code",
   "execution_count": 5,
   "id": "d8287f17",
   "metadata": {},
   "outputs": [],
   "source": [
    "import multiprocessing\n",
    "cpu_used=multiprocessing.cpu_count()"
   ]
  },
  {
   "cell_type": "code",
   "execution_count": 6,
   "id": "c0ae4824",
   "metadata": {},
   "outputs": [
    {
     "name": "stdout",
     "output_type": "stream",
     "text": [
      "cpu_count : 4\n"
     ]
    }
   ],
   "source": [
    "print(\"cpu_count :\",cpu_used)"
   ]
  },
  {
   "cell_type": "markdown",
   "id": "1a9907ef",
   "metadata": {},
   "source": [
    "# 48. \n",
    "- Write a Python program to parse a string to float or integer."
   ]
  },
  {
   "cell_type": "code",
   "execution_count": 8,
   "id": "1dd39dc1",
   "metadata": {},
   "outputs": [
    {
     "name": "stdout",
     "output_type": "stream",
     "text": [
      "1902.0\n",
      "1902\n"
     ]
    }
   ],
   "source": [
    "string=\"1902\"\n",
    "Float=float(string)\n",
    "Int=int(string)\n",
    "print(Float)\n",
    "print(Int)"
   ]
  },
  {
   "cell_type": "markdown",
   "id": "cc3d8c0a",
   "metadata": {},
   "source": [
    "# 49. \n",
    "- Write a Python program to list all files in a directory."
   ]
  },
  {
   "cell_type": "code",
   "execution_count": 11,
   "id": "089968c2",
   "metadata": {},
   "outputs": [],
   "source": [
    "from os import listdir\n",
    "from os.path import isfile,join\n",
    "\n",
    "file_list=[f for f in listdir(r\"C:\\Users\\madhu\") if isfile(join(r\"C:\\Users\\madhu\",f))]"
   ]
  },
  {
   "cell_type": "code",
   "execution_count": 12,
   "id": "196daed4",
   "metadata": {},
   "outputs": [
    {
     "name": "stdout",
     "output_type": "stream",
     "text": [
      "['.bash_history', '.condarc', '.gitconfig', '.lesshst', '.node_repl_history', '10th _aug2023.ipynb', '2_july assignment(oops).ipynb', '7_july2023.ipynb', 'Agriculture_clasificstion_project@10 (1).ipynb', 'app.py', 'Bokeh_plot.ipynb', 'brain_size.csv', 'City Table.xlsx', 'City_table', 'City_table.csv', 'connect_with_SQL.ipynb', 'credit_card_defaulter.csv', 'custmor.csv', 'customers.zip', 'custom_filename.html', 'Debasish.ipynb', 'Debasish_13_july2023.ipynb', 'debasish_1_july2023.ipynb', 'Debasish_20july.ipynb', 'Debasish_20_july2023.ipynb', 'debasish_21_july.ipynb', 'debasish_22_july2023.ipynb', 'Debasish_26_july2023.ipynb', 'debasish_29.6.2023.ipynb', 'Debasish_2_july2023.ipynb', 'debasish_30_june2023.ipynb', 'Debasish_6_july2023.ipynb', 'debasish_numpy_26july.ipynb', 'EDA.ipynb', 'EDA_13oct.ipynb', 'fe1-updated.ipynb', 'Feature_Engineer', 'file123.text', 'FSDM_ENDTOEND.ipynb', 'gemstone.csv', 'hert.pkl', 'Image_scraper.ipynb', 'image_scraper_fsdm.ipynb', 'image_scraping_8_aug.ipynb', 'Label_encoder.ipynb', 'Machine Learning Day-1.ipynb', 'matplotlib.ipynb', 'Matplotlib_13sep.ipynb', 'ML_algorithms.ipynb', 'ML_deploy.zip', 'ML_deploy_practice.ipynb', 'ML_project_agr_.ipynb', 'ML_project_Brain_size.ipynb', 'mongodb.ipynb', 'mongodb_connect.ipynb', 'noukri-webscrapping.csv', 'NTUSER.DAT', 'ntuser.dat.LOG1', 'ntuser.dat.LOG2', 'NTUSER.DAT{e0525b49-90bf-11ed-9efb-ae136fedd9e9}.TxR.0.regtrans-ms', 'NTUSER.DAT{e0525b49-90bf-11ed-9efb-ae136fedd9e9}.TxR.1.regtrans-ms', 'NTUSER.DAT{e0525b49-90bf-11ed-9efb-ae136fedd9e9}.TxR.2.regtrans-ms', 'NTUSER.DAT{e0525b49-90bf-11ed-9efb-ae136fedd9e9}.TxR.blf', 'NTUSER.DAT{e0525b4a-90bf-11ed-9efb-ae136fedd9e9}.TM.blf', 'NTUSER.DAT{e0525b4a-90bf-11ed-9efb-ae136fedd9e9}.TMContainer00000000000000000001.regtrans-ms', 'NTUSER.DAT{e0525b4a-90bf-11ed-9efb-ae136fedd9e9}.TMContainer00000000000000000002.regtrans-ms', 'ntuser.ini', 'Numpy_practice_7august.ipynb', 'OOPS_16_Aug.ipynb', 'Oops_7Aug.ipynb', 'Pandas_20Aug.ipynb', 'Pandas_26Aug.ipynb', 'pandas_27july.ipynb', 'Pandas_Exerxcise.ipynb', 'pandas_func.ipynb', 'pandas_practice.ipynb', 'Pandas_Tutorial.ipynb', 'placement.csv', 'plot.png', 'plotly_practice.ipynb', 'Plotly_python.ipynb', 'Practice_13.ipynb', 'prctice.ipynb', 'python_10oct.ipynb', 'python_5_sep.ipynb', 'Python_practice.ipynb', 'read_csv_11aug_2023.ipynb', 'selenium  Webscraping.ipynb', 'selenium_webscraping.ipynb', 'social_net_ads.csv', 'SQL_connect.ipynb', 'Statistics_5_sep.ipynb', 'Stats_python_1Sep.ipynb', 'std,mean,variance,percentile.ipynb', 'test.csv', 'test.png', 'test.xlsx', 'testing_file.html', 'tips.csv', 'titanic_train.csv', 'Untitled.ipynb', 'untitled.txt', 'Untitled1.ipynb', 'Untitled2.ipynb', 'Untitled3.ipynb', 'Untitled4.ipynb', 'Untitled5.ipynb', 'Untitled6.ipynb', 'Untitled7.ipynb', 'Untitled8.ipynb', 'Untitled9.ipynb', 'web_scraper.ipynb', 'web_scraper_fsdm.ipynb']\n"
     ]
    }
   ],
   "source": [
    "print(file_list)"
   ]
  },
  {
   "cell_type": "markdown",
   "id": "44e2b7a5",
   "metadata": {},
   "source": [
    "# 50.\n",
    "- Write a Python program to print without a newline or space."
   ]
  },
  {
   "cell_type": "code",
   "execution_count": 15,
   "id": "81dfc8dd",
   "metadata": {},
   "outputs": [
    {
     "name": "stdout",
     "output_type": "stream",
     "text": [
      "1.02.03.04.05.0"
     ]
    }
   ],
   "source": [
    "my_list=[1,2,3,4,5]\n",
    "for i in my_list:\n",
    "    print(float(i),end=\"\")"
   ]
  },
  {
   "cell_type": "markdown",
   "id": "1546c9a9",
   "metadata": {},
   "source": [
    "# 51.\n",
    "- Write a Python program to determine the profiling of Python programs.\n",
    "- Note: A profile is a set of statistics that describes how often and for how long various parts of the program executed. These statistics can be formatted into reports via the pstats module."
   ]
  },
  {
   "cell_type": "code",
   "execution_count": 41,
   "id": "327af79e",
   "metadata": {},
   "outputs": [
    {
     "name": "stdout",
     "output_type": "stream",
     "text": [
      "81\n",
      "         29 function calls in 0.000 seconds\n",
      "\n",
      "   Ordered by: standard name\n",
      "\n",
      "   ncalls  tottime  percall  cumtime  percall filename:lineno(function)\n",
      "        1    0.000    0.000    0.000    0.000 3627433027.py:2(calculation)\n",
      "        1    0.000    0.000    0.000    0.000 <string>:1(<module>)\n",
      "        1    0.000    0.000    0.000    0.000 iostream.py:202(schedule)\n",
      "        2    0.000    0.000    0.000    0.000 iostream.py:437(_is_master_process)\n",
      "        2    0.000    0.000    0.000    0.000 iostream.py:456(_schedule_flush)\n",
      "        2    0.000    0.000    0.000    0.000 iostream.py:526(write)\n",
      "        1    0.000    0.000    0.000    0.000 iostream.py:90(_event_pipe)\n",
      "        1    0.000    0.000    0.000    0.000 socket.py:543(send)\n",
      "        1    0.000    0.000    0.000    0.000 threading.py:1102(_wait_for_tstate_lock)\n",
      "        1    0.000    0.000    0.000    0.000 threading.py:1169(is_alive)\n",
      "        1    0.000    0.000    0.000    0.000 threading.py:553(is_set)\n",
      "        1    0.000    0.000    0.000    0.000 {built-in method builtins.exec}\n",
      "        2    0.000    0.000    0.000    0.000 {built-in method builtins.isinstance}\n",
      "        2    0.000    0.000    0.000    0.000 {built-in method builtins.len}\n",
      "        1    0.000    0.000    0.000    0.000 {built-in method builtins.print}\n",
      "        2    0.000    0.000    0.000    0.000 {built-in method nt.getpid}\n",
      "        2    0.000    0.000    0.000    0.000 {method '__exit__' of '_thread.RLock' objects}\n",
      "        1    0.000    0.000    0.000    0.000 {method 'acquire' of '_thread.lock' objects}\n",
      "        1    0.000    0.000    0.000    0.000 {method 'append' of 'collections.deque' objects}\n",
      "        1    0.000    0.000    0.000    0.000 {method 'disable' of '_lsprof.Profiler' objects}\n",
      "        2    0.000    0.000    0.000    0.000 {method 'write' of '_io.StringIO' objects}\n",
      "\n",
      "\n"
     ]
    }
   ],
   "source": [
    "import cProfile\n",
    "def calculation():\n",
    "    \n",
    "    print((4+5)**2)\n",
    "\n",
    "cProfile.run(\"calculation()\")"
   ]
  },
  {
   "cell_type": "markdown",
   "id": "6d0679c5",
   "metadata": {},
   "source": [
    "# 52. \n",
    "- Write a Python program to print to STDERR."
   ]
  },
  {
   "cell_type": "code",
   "execution_count": null,
   "id": "1a8c05ee",
   "metadata": {},
   "outputs": [],
   "source": []
  },
  {
   "cell_type": "markdown",
   "id": "390d93af",
   "metadata": {},
   "source": [
    "# 53.\n",
    "- Write a Python program to access environment variables."
   ]
  },
  {
   "cell_type": "code",
   "execution_count": 61,
   "id": "291bf065",
   "metadata": {},
   "outputs": [
    {
     "name": "stdout",
     "output_type": "stream",
     "text": [
      "environ({'ALLUSERSPROFILE': 'C:\\\\ProgramData', 'APPDATA': 'C:\\\\Users\\\\madhu\\\\AppData\\\\Roaming', 'COMMONPROGRAMFILES': 'C:\\\\Program Files\\\\Common Files', 'COMMONPROGRAMFILES(X86)': 'C:\\\\Program Files (x86)\\\\Common Files', 'COMMONPROGRAMW6432': 'C:\\\\Program Files\\\\Common Files', 'COMPUTERNAME': 'PM-SONALI', 'COMSPEC': 'C:\\\\WINDOWS\\\\system32\\\\cmd.exe', 'CONDA_BAT': 'C:\\\\Users\\\\madhu\\\\anaconda3\\\\condabin\\\\conda.bat', 'CONDA_EXE': 'C:\\\\Users\\\\madhu\\\\anaconda3\\\\Scripts\\\\conda.exe', 'CONDA_SHLVL': '0', 'DRIVERDATA': 'C:\\\\Windows\\\\System32\\\\Drivers\\\\DriverData', 'HOMEDRIVE': 'C:', 'HOMEPATH': '\\\\Users\\\\madhu', 'IGCCSVC_DB': 'AQAAANCMnd8BFdERjHoAwE/Cl+sBAAAAY5mMEIfNA0KuWxLiw9iTggQAAAACAAAAAAAQZgAAAAEAACAAAAB8YQASOCeFdxIU+OY9u+aeh6XktcBi0kZPTgeYrhP5xAAAAAAOgAAAAAIAACAAAAC9nDe+r46ttUyJ4/MvS8puFI2jJiYgDHzaSNwBTwA4QmAAAAB6yOwOK4b58rbVj8HrJJW6EM32fCnA1Z4kauXofgaN0c9qQ3PD/mLxHAIPHDibKpVdp9rlwAkkFcUJzxM2nkqZw6rsdFjeG9dn10fugnMkXPjMbipRcBZTzwtOR8XuMlhAAAAAxYj51Xyf2dDO5ub4CIax5X7aplxT9HRSkY3s6nSevHLHmD7doPN2VqRSgY7/ISQH+R7P5kD5lS4rj8uyhsAcdQ==', 'LOCALAPPDATA': 'C:\\\\Users\\\\madhu\\\\AppData\\\\Local', 'LOGONSERVER': '\\\\\\\\PM-SONALI', 'NUMBER_OF_PROCESSORS': '4', 'ONEDRIVE': 'C:\\\\Users\\\\madhu\\\\OneDrive', 'OS': 'Windows_NT', 'PATH': 'C:\\\\Users\\\\madhu\\\\anaconda3\\\\condabin;C:\\\\WINDOWS\\\\system32;C:\\\\WINDOWS;C:\\\\WINDOWS\\\\System32\\\\Wbem;C:\\\\WINDOWS\\\\System32\\\\WindowsPowerShell\\\\v1.0\\\\;C:\\\\WINDOWS\\\\System32\\\\OpenSSH\\\\;C:\\\\Program Files\\\\nodejs\\\\;C:\\\\Program Files\\\\Git\\\\cmd;C:\\\\Program Files\\\\MySQL\\\\MySQL Shell 8.0\\\\bin\\\\;C:\\\\Users\\\\madhu\\\\AppData\\\\Local\\\\Microsoft\\\\WindowsApps;C:\\\\Users\\\\madhu\\\\AppData\\\\Local\\\\Programs\\\\Microsoft VS Code\\\\bin;C:\\\\Users\\\\madhu\\\\AppData\\\\Roaming\\\\npm;C:\\\\Users\\\\madhu\\\\anaconda3\\\\Scripts\\\\;C:\\\\Users\\\\madhu\\\\anaconda3\\\\Library\\\\bin\\\\;', 'PATHEXT': '.COM;.EXE;.BAT;.CMD;.VBS;.VBE;.JS;.JSE;.WSF;.WSH;.MSC', 'PROCESSOR_ARCHITECTURE': 'AMD64', 'PROCESSOR_IDENTIFIER': 'Intel64 Family 6 Model 140 Stepping 1, GenuineIntel', 'PROCESSOR_LEVEL': '6', 'PROCESSOR_REVISION': '8c01', 'PROGRAMDATA': 'C:\\\\ProgramData', 'PROGRAMFILES': 'C:\\\\Program Files', 'PROGRAMFILES(X86)': 'C:\\\\Program Files (x86)', 'PROGRAMW6432': 'C:\\\\Program Files', 'PROMPT': '$P$G', 'PSMODULEPATH': 'C:\\\\Program Files\\\\WindowsPowerShell\\\\Modules;C:\\\\WINDOWS\\\\system32\\\\WindowsPowerShell\\\\v1.0\\\\Modules', 'PUBLIC': 'C:\\\\Users\\\\Public', 'SESSIONNAME': 'Console', 'SYSTEMDRIVE': 'C:', 'SYSTEMROOT': 'C:\\\\WINDOWS', 'TEMP': 'C:\\\\Users\\\\madhu\\\\AppData\\\\Local\\\\Temp', 'TMP': 'C:\\\\Users\\\\madhu\\\\AppData\\\\Local\\\\Temp', 'USERDOMAIN': 'PM-SONALI', 'USERDOMAIN_ROAMINGPROFILE': 'PM-SONALI', 'USERNAME': 'madhu', 'USERPROFILE': 'C:\\\\Users\\\\madhu', 'WINDIR': 'C:\\\\WINDOWS', 'WSLENV': 'WT_SESSION:WT_PROFILE_ID:', 'WT_PROFILE_ID': '{0caa0dad-35be-5f56-a8ff-afceeeaa6101}', 'WT_SESSION': '1ff29bd1-65d3-441b-9851-6bd12a7f4067', 'ZES_ENABLE_SYSMAN': '1', 'PYDEVD_USE_FRAME_EVAL': 'NO', 'JPY_INTERRUPT_EVENT': '3660', 'IPY_INTERRUPT_EVENT': '3660', 'JPY_PARENT_PID': '3656', 'TERM': 'xterm-color', 'CLICOLOR': '1', 'FORCE_COLOR': '1', 'CLICOLOR_FORCE': '1', 'PAGER': 'cat', 'GIT_PAGER': 'cat', 'MPLBACKEND': 'module://matplotlib_inline.backend_inline'})\n",
      "====================================================================================================\n",
      "C:\\Users\\madhu\\anaconda3\\condabin;C:\\WINDOWS\\system32;C:\\WINDOWS;C:\\WINDOWS\\System32\\Wbem;C:\\WINDOWS\\System32\\WindowsPowerShell\\v1.0\\;C:\\WINDOWS\\System32\\OpenSSH\\;C:\\Program Files\\nodejs\\;C:\\Program Files\\Git\\cmd;C:\\Program Files\\MySQL\\MySQL Shell 8.0\\bin\\;C:\\Users\\madhu\\AppData\\Local\\Microsoft\\WindowsApps;C:\\Users\\madhu\\AppData\\Local\\Programs\\Microsoft VS Code\\bin;C:\\Users\\madhu\\AppData\\Roaming\\npm;C:\\Users\\madhu\\anaconda3\\Scripts\\;C:\\Users\\madhu\\anaconda3\\Library\\bin\\;\n",
      "====================================================================================================\n"
     ]
    }
   ],
   "source": [
    "import os\n",
    "print(os.environ)\n",
    "print(100*(\"=\"))\n",
    "print(os.environ['path'])\n",
    "print(100*(\"=\"))\n"
   ]
  },
  {
   "cell_type": "markdown",
   "id": "0925dbd1",
   "metadata": {},
   "source": [
    "# 54.\n",
    "- Write a Python program to get the current username."
   ]
  },
  {
   "cell_type": "code",
   "execution_count": 62,
   "id": "e8d0f314",
   "metadata": {},
   "outputs": [
    {
     "name": "stdout",
     "output_type": "stream",
     "text": [
      "User name : madhu\n"
     ]
    }
   ],
   "source": [
    "import getpass\n",
    "print(\"User name :\",getpass.getuser())"
   ]
  },
  {
   "cell_type": "markdown",
   "id": "9fb65437",
   "metadata": {},
   "source": [
    "# 55.\n",
    "- Write a Python program to find local IP addresses using Python's stdlib."
   ]
  },
  {
   "cell_type": "code",
   "execution_count": 64,
   "id": "d3d8b321",
   "metadata": {},
   "outputs": [
    {
     "data": {
      "text/plain": [
       "'PM-Sonali'"
      ]
     },
     "execution_count": 64,
     "metadata": {},
     "output_type": "execute_result"
    }
   ],
   "source": [
    "import socket\n",
    "localhost_name=socket.gethostname()\n",
    "localhost_name"
   ]
  },
  {
   "cell_type": "code",
   "execution_count": 78,
   "id": "2bdc7f4a",
   "metadata": {},
   "outputs": [
    {
     "data": {
      "text/plain": [
       "['192.168.176.227']"
      ]
     },
     "execution_count": 78,
     "metadata": {},
     "output_type": "execute_result"
    }
   ],
   "source": [
    "ip_adresses=socket.gethostbyname_ex(localhost_name)[-1]\n",
    "ip_adresses"
   ]
  },
  {
   "cell_type": "markdown",
   "id": "8858582d",
   "metadata": {},
   "source": [
    "# 56.\n",
    "- Write a Python program to get the height and width of the console window."
   ]
  },
  {
   "cell_type": "code",
   "execution_count": null,
   "id": "35a5d9c0",
   "metadata": {},
   "outputs": [],
   "source": []
  },
  {
   "cell_type": "markdown",
   "id": "4c7e625f",
   "metadata": {},
   "source": [
    "# 57.\n",
    "-  Write a Python program to get the execution time of a Python method."
   ]
  },
  {
   "cell_type": "code",
   "execution_count": 79,
   "id": "4c623f24",
   "metadata": {},
   "outputs": [],
   "source": [
    "import time\n",
    "def calculation(n):\n",
    "    start_time=time.time()\n",
    "    s=0\n",
    "    for i in range(1,n+1):\n",
    "        s=s+i\n",
    "    end_time=time.time()\n",
    "    return s,end_time-start_time"
   ]
  },
  {
   "cell_type": "code",
   "execution_count": 81,
   "id": "4a6deb2d",
   "metadata": {},
   "outputs": [
    {
     "name": "stdout",
     "output_type": "stream",
     "text": [
      "time for calculate sum :  (55, 0.0)\n"
     ]
    }
   ],
   "source": [
    "n=10\n",
    "print(\"time for calculate sum : \",calculation(n))"
   ]
  },
  {
   "cell_type": "markdown",
   "id": "61c7041a",
   "metadata": {},
   "source": [
    "# 58.\n",
    "-  Write a Python program to sum the first n positive integers."
   ]
  },
  {
   "cell_type": "code",
   "execution_count": 89,
   "id": "4a9770a9",
   "metadata": {},
   "outputs": [],
   "source": [
    "s=[1,2,3,4,5,6,7,8]\n",
    "\n",
    "sum_1=sum(s[:6])"
   ]
  },
  {
   "cell_type": "code",
   "execution_count": 90,
   "id": "f2c8bc72",
   "metadata": {},
   "outputs": [
    {
     "data": {
      "text/plain": [
       "21"
      ]
     },
     "execution_count": 90,
     "metadata": {},
     "output_type": "execute_result"
    }
   ],
   "source": [
    "sum_1"
   ]
  },
  {
   "cell_type": "code",
   "execution_count": 100,
   "id": "515f2f50",
   "metadata": {},
   "outputs": [],
   "source": [
    "def calculation(n):\n",
    "    sum=0\n",
    "    for i in range(1,n+1):\n",
    "        sum=sum+i\n",
    "    return sum"
   ]
  },
  {
   "cell_type": "code",
   "execution_count": 102,
   "id": "4ab35cfa",
   "metadata": {},
   "outputs": [
    {
     "data": {
      "text/plain": [
       "5050"
      ]
     },
     "execution_count": 102,
     "metadata": {},
     "output_type": "execute_result"
    }
   ],
   "source": [
    "calculation(100)"
   ]
  },
  {
   "cell_type": "code",
   "execution_count": 104,
   "id": "21906d3c",
   "metadata": {},
   "outputs": [
    {
     "name": "stdout",
     "output_type": "stream",
     "text": [
      "ENter the number :100\n",
      "sum of first 100 numbers is 5050.0\n"
     ]
    }
   ],
   "source": [
    "n=int(input(\"ENter the number :\"))\n",
    "sum=(n*(n+1))/2\n",
    "print(f\"sum of first {n} numbers is {sum}\")"
   ]
  },
  {
   "cell_type": "markdown",
   "id": "e96f3af7",
   "metadata": {},
   "source": [
    "# 59.\n",
    "- Write a Python program to convert height (in feet and inches) to centimeters."
   ]
  },
  {
   "cell_type": "code",
   "execution_count": 109,
   "id": "9f079f28",
   "metadata": {},
   "outputs": [
    {
     "name": "stdout",
     "output_type": "stream",
     "text": [
      "Enter height in Feet :5\n",
      "Enter height in inch :3\n",
      "Ur height in cm is 159.4\n"
     ]
    }
   ],
   "source": [
    "h_ft=int(input('Enter height in Feet :'))\n",
    "\n",
    "h_inch=int(input(\"Enter height in inch :\"))\n",
    "\n",
    "h=(h_inch+h_ft*12)\n",
    "\n",
    "h_cm=round(h*2.53,1)\n",
    "\n",
    "print(f\"Ur height in cm is {h_cm}\")"
   ]
  },
  {
   "cell_type": "markdown",
   "id": "83185c6c",
   "metadata": {},
   "source": [
    "# 60.\n",
    "- Write a Python program to calculate the hypotenuse of a right angled triangle."
   ]
  },
  {
   "cell_type": "code",
   "execution_count": 113,
   "id": "b8e11aca",
   "metadata": {},
   "outputs": [
    {
     "name": "stdout",
     "output_type": "stream",
     "text": [
      "Enter the perpendicular :4\n",
      "Enter the base :3\n",
      "Hypotenuse of triangle is 5.0\n"
     ]
    }
   ],
   "source": [
    "import math\n",
    "p=float(input(\"Enter the perpendicular :\"))\n",
    "b=float(input(\"Enter the base :\"))\n",
    "h=math.sqrt(p**2+b**2)\n",
    "print(f\"Hypotenuse of triangle is {h}\")"
   ]
  },
  {
   "cell_type": "markdown",
   "id": "b03fc485",
   "metadata": {},
   "source": [
    "# 61. \n",
    "- Write a Python program to convert the distance (in feet) to inches, yards, and miles."
   ]
  },
  {
   "cell_type": "code",
   "execution_count": 117,
   "id": "fcaa1bec",
   "metadata": {},
   "outputs": [
    {
     "name": "stdout",
     "output_type": "stream",
     "text": [
      "Enter the distance in feet 10000\n",
      "Distance in inches 120000\n",
      "\n",
      "Distance in yards 3333.3333333333335\n",
      "\n",
      "Distance in miles 1.893939393939394\n"
     ]
    }
   ],
   "source": [
    "d_f=int(input(\"Enter the distance in feet \"))\n",
    "d_inch=d_f*12\n",
    "d_yards=d_f/3\n",
    "d_miles=d_f/5280\n",
    "print(f\"Distance in inches {d_inch}\")\n",
    "print(f\"\\nDistance in yards {d_yards}\")\n",
    "print(f\"\\nDistance in miles {d_miles}\")"
   ]
  },
  {
   "cell_type": "markdown",
   "id": "7c5e6800",
   "metadata": {},
   "source": [
    "# 62.\n",
    "- Write a Python program to convert all units of time into seconds."
   ]
  },
  {
   "cell_type": "code",
   "execution_count": null,
   "id": "5fd402a9",
   "metadata": {},
   "outputs": [],
   "source": []
  }
 ],
 "metadata": {
  "kernelspec": {
   "display_name": "Python 3 (ipykernel)",
   "language": "python",
   "name": "python3"
  },
  "language_info": {
   "codemirror_mode": {
    "name": "ipython",
    "version": 3
   },
   "file_extension": ".py",
   "mimetype": "text/x-python",
   "name": "python",
   "nbconvert_exporter": "python",
   "pygments_lexer": "ipython3",
   "version": "3.10.9"
  }
 },
 "nbformat": 4,
 "nbformat_minor": 5
}
