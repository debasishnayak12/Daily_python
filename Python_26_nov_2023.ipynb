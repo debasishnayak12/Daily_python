{
 "cells": [
  {
   "cell_type": "markdown",
   "id": "8b45a548",
   "metadata": {},
   "source": [
    "# 70.\n",
    "- Write a Python program to sort files by date."
   ]
  },
  {
   "cell_type": "code",
   "execution_count": 2,
   "id": "8c020134",
   "metadata": {},
   "outputs": [
    {
     "name": "stdout",
     "output_type": "stream",
     "text": [
      "iris.csv\n",
      "tips.csv\n"
     ]
    }
   ],
   "source": [
    "import glob\n",
    "import os\n",
    "files=glob.glob(\"*.csv\")\n",
    "files.sort(key=os.path.getmtime)\n",
    "print(\"\\n\".join(files))"
   ]
  },
  {
   "cell_type": "markdown",
   "id": "8e23a3ac",
   "metadata": {},
   "source": [
    "# 71.\n",
    "- Write a Python program to get a directory listing, sorted by creation date."
   ]
  },
  {
   "cell_type": "code",
   "execution_count": null,
   "id": "389eff5f",
   "metadata": {},
   "outputs": [],
   "source": []
  },
  {
   "cell_type": "markdown",
   "id": "ea2ff499",
   "metadata": {},
   "source": [
    "# 72. \n",
    "- Write a Python program to get the details of the math module."
   ]
  },
  {
   "cell_type": "code",
   "execution_count": 7,
   "id": "fda1fd91",
   "metadata": {},
   "outputs": [
    {
     "name": "stdout",
     "output_type": "stream",
     "text": [
      "['__doc__', '__loader__', '__name__', '__package__', '__spec__', 'acos', 'acosh', 'asin', 'asinh', 'atan', 'atan2', 'atanh', 'ceil', 'comb', 'copysign', 'cos', 'cosh', 'degrees', 'dist', 'e', 'erf', 'erfc', 'exp', 'expm1', 'fabs', 'factorial', 'floor', 'fmod', 'frexp', 'fsum', 'gamma', 'gcd', 'hypot', 'inf', 'isclose', 'isfinite', 'isinf', 'isnan', 'isqrt', 'lcm', 'ldexp', 'lgamma', 'log', 'log10', 'log1p', 'log2', 'modf', 'nan', 'nextafter', 'perm', 'pi', 'pow', 'prod', 'radians', 'remainder', 'sin', 'sinh', 'sqrt', 'tan', 'tanh', 'tau', 'trunc', 'ulp']\n"
     ]
    }
   ],
   "source": [
    "import math\n",
    "print(dir(math))"
   ]
  },
  {
   "cell_type": "markdown",
   "id": "00aac41e",
   "metadata": {},
   "source": [
    "# 73.\n",
    "- Write a Python program to calculate the midpoints of a line."
   ]
  },
  {
   "cell_type": "code",
   "execution_count": 8,
   "id": "b72bb247",
   "metadata": {},
   "outputs": [
    {
     "name": "stdout",
     "output_type": "stream",
     "text": [
      "Enter the x1 point :2\n",
      "Enter the x2 point :3\n",
      "Enter the y1 point :4\n",
      "Enter the y2 point :6\n",
      "Calculating mid point of line :\n",
      "\n",
      "x co-ordinate of Mid point : 2.5\n",
      "\n",
      "y co-ordinate of Mid point : 5.0\n"
     ]
    }
   ],
   "source": [
    "x1=float(input(\"Enter the x1 point :\"))\n",
    "x2=float(input(\"Enter the x2 point :\"))\n",
    "y1=float(input(\"Enter the y1 point :\"))\n",
    "y2=float(input(\"Enter the y2 point :\"))\n",
    "\n",
    "mid_x_point=(x1+x2)/2\n",
    "mid_y_point=(y1+y2)/2\n",
    "\n",
    "print(\"Calculating mid point of line :\")\n",
    "print(\"\\nx co-ordinate of Mid point :\",mid_x_point)\n",
    "print(\"\\ny co-ordinate of Mid point :\",mid_y_point)"
   ]
  },
  {
   "cell_type": "markdown",
   "id": "0fc93d8f",
   "metadata": {},
   "source": [
    "# 74. \n",
    "- Write a Python program to hash a word."
   ]
  },
  {
   "cell_type": "code",
   "execution_count": 16,
   "id": "91cacbff",
   "metadata": {},
   "outputs": [
    {
     "name": "stdout",
     "output_type": "stream",
     "text": [
      "49\n",
      "50\n",
      "51\n",
      "52\n"
     ]
    }
   ],
   "source": [
    "\"\"\"l=[\"1\",\"2\",\"3\",\"4\"]\n",
    "for i in l:\n",
    "    \n",
    "    print(ord(i))\n",
    "    \"\"\""
   ]
  },
  {
   "cell_type": "code",
   "execution_count": 20,
   "id": "820f4271",
   "metadata": {},
   "outputs": [
    {
     "name": "stdout",
     "output_type": "stream",
     "text": [
      "Enter the word :ms5t\n",
      "The coded word : M050\n"
     ]
    }
   ],
   "source": [
    "ls=[0, 1, 2, 3, 0, 1, 2, 0, 0, 2, 2, 4, 5, 5, 0, 1, 2, 6, 2, 3, 0, 1, 0, 2, 0, 2]\n",
    "word=input(\"Enter the word :\")\n",
    "word=word.upper()\n",
    "coded=word[0]\n",
    "for a in word[1:len(word)]:\n",
    "    i=65-ord(a)\n",
    "    coded=coded+str(ls[i])\n",
    "    \n",
    "print(\"The coded word :\",coded)\n",
    "    "
   ]
  },
  {
   "cell_type": "markdown",
   "id": "fb7b212d",
   "metadata": {},
   "source": [
    "# 75. \n",
    "- Write a Python program to get the copyright information and write Copyright information in Python code."
   ]
  },
  {
   "cell_type": "code",
   "execution_count": 27,
   "id": "a95ba00b",
   "metadata": {},
   "outputs": [
    {
     "name": "stdout",
     "output_type": "stream",
     "text": [
      "Here is all copyright Information :\n",
      "\n",
      " Copyright (c) 2001-2022 Python Software Foundation.\n",
      "All Rights Reserved.\n",
      "\n",
      "Copyright (c) 2000 BeOpen.com.\n",
      "All Rights Reserved.\n",
      "\n",
      "Copyright (c) 1995-2001 Corporation for National Research Initiatives.\n",
      "All Rights Reserved.\n",
      "\n",
      "Copyright (c) 1991-1995 Stichting Mathematisch Centrum, Amsterdam.\n",
      "All Rights Reserved.\n"
     ]
    }
   ],
   "source": [
    "print(\"Here is all copyright Information :\")\n",
    "print(\"\\n\",copyright)"
   ]
  },
  {
   "cell_type": "code",
   "execution_count": 28,
   "id": "b1a04dcc",
   "metadata": {},
   "outputs": [
    {
     "data": {
      "application/javascript": [
       "\n",
       "        if (window._pyforest_update_imports_cell) { window._pyforest_update_imports_cell('import sys'); }\n",
       "    "
      ],
      "text/plain": [
       "<IPython.core.display.Javascript object>"
      ]
     },
     "metadata": {},
     "output_type": "display_data"
    },
    {
     "data": {
      "text/plain": [
       "'Copyright (c) 2001-2022 Python Software Foundation.\\nAll Rights Reserved.\\n\\nCopyright (c) 2000 BeOpen.com.\\nAll Rights Reserved.\\n\\nCopyright (c) 1995-2001 Corporation for National Research Initiatives.\\nAll Rights Reserved.\\n\\nCopyright (c) 1991-1995 Stichting Mathematisch Centrum, Amsterdam.\\nAll Rights Reserved.'"
      ]
     },
     "execution_count": 28,
     "metadata": {},
     "output_type": "execute_result"
    }
   ],
   "source": [
    "# we can find using sys\n",
    "sys.copyright"
   ]
  },
  {
   "cell_type": "markdown",
   "id": "c4ff2b3c",
   "metadata": {},
   "source": [
    "# 76.\n",
    "- Write a Python program to get the command-line arguments (name of the script, the number of arguments, arguments) passed to a script."
   ]
  },
  {
   "cell_type": "code",
   "execution_count": 34,
   "id": "61e87da0",
   "metadata": {},
   "outputs": [
    {
     "name": "stdout",
     "output_type": "stream",
     "text": [
      "Name/path of the script is : C:\\Users\\madhu\\anaconda3\\lib\\site-packages\\ipykernel_launcher.py\n",
      "\n",
      "The number of arguments in script : 3\n",
      "\n",
      "The arguments list : ['C:\\\\Users\\\\madhu\\\\anaconda3\\\\lib\\\\site-packages\\\\ipykernel_launcher.py', '-f', 'C:\\\\Users\\\\madhu\\\\AppData\\\\Roaming\\\\jupyter\\\\runtime\\\\kernel-19f72b56-40bc-4908-a47a-a2b73987958c.json']\n"
     ]
    }
   ],
   "source": [
    "# import the sys module to get all functionality \n",
    "import sys\n",
    "# print the path or name of script\n",
    "print(\"Name/path of the script is :\",sys.argv[0])\n",
    "# calculate the number of arguments\n",
    "print(\"\\nThe number of arguments in script :\",len(sys.argv))\n",
    "# find all the argumwnts of script\n",
    "print(\"\\nThe arguments list :\", sys.argv)"
   ]
  },
  {
   "cell_type": "markdown",
   "id": "4b9c9094",
   "metadata": {},
   "source": [
    "# 77. \n",
    "- Write a Python program to test whether the system is a big-endian platform or a little-endian platform."
   ]
  },
  {
   "cell_type": "code",
   "execution_count": 36,
   "id": "6fac0c00",
   "metadata": {},
   "outputs": [
    {
     "name": "stdout",
     "output_type": "stream",
     "text": [
      "The system is a little-endian platform \n"
     ]
    }
   ],
   "source": [
    "import sys\n",
    "\n",
    "if sys.byteorder==\"little\":\n",
    "    print(\"The system is a little-endian platform \")\n",
    "else:\n",
    "    print(\"The system is a Big-endian platform \")"
   ]
  },
  {
   "cell_type": "markdown",
   "id": "9e7f034d",
   "metadata": {},
   "source": [
    "# 78.\n",
    "- Write a Python program to find the available built-in modules."
   ]
  },
  {
   "cell_type": "code",
   "execution_count": 41,
   "id": "5fccd5dc",
   "metadata": {},
   "outputs": [
    {
     "name": "stdout",
     "output_type": "stream",
     "text": [
      "_abc,_ast,_bisect,_blake2,_codecs,_codecs_cn,_codecs_hk,_codecs_iso2022,_codecs_jp,_codecs_kr,_codec\n",
      "s_tw,_collections,_contextvars,_csv,_datetime,_functools,_heapq,_imp,_io,_json,_locale,_lsprof,_md5,\n",
      "_multibytecodec,_opcode,_operator,_pickle,_random,_sha1,_sha256,_sha3,_sha512,_signal,_sre,_stat,_st\n",
      "atistics,_string,_struct,_symtable,_thread,_tracemalloc,_warnings,_weakref,_winapi,_xxsubinterpreter\n",
      "s,array,atexit,audioop,binascii,builtins,cmath,errno,faulthandler,gc,itertools,marshal,math,mmap,msv\n",
      "crt,nt,sys,time,winreg,xxsubtype,zlib\n"
     ]
    }
   ],
   "source": [
    "import sys\n",
    "import textwrap\n",
    "built_in_modules=\",\".join(sorted(sys.builtin_module_names))\n",
    "print(textwrap.fill(built_in_modules,width=100))"
   ]
  },
  {
   "cell_type": "markdown",
   "id": "86f6b6e4",
   "metadata": {},
   "source": [
    "# 79. \n",
    "- Write a Python program to get the size of an object in bytes."
   ]
  },
  {
   "cell_type": "code",
   "execution_count": 46,
   "id": "ac8f4991",
   "metadata": {},
   "outputs": [
    {
     "name": "stdout",
     "output_type": "stream",
     "text": [
      "200 bytes\n"
     ]
    }
   ],
   "source": [
    "s=[1,2,3,4,5,6,7,8,9,1,2,31,12,17,28,19,72,93]\n",
    "print(sys.getsizeof(s),\"bytes\")"
   ]
  },
  {
   "cell_type": "markdown",
   "id": "19af4b3e",
   "metadata": {},
   "source": [
    "# 80.\n",
    "- Write a Python program to get the current value of the recursion limit."
   ]
  },
  {
   "cell_type": "code",
   "execution_count": 52,
   "id": "4d7d99a6",
   "metadata": {},
   "outputs": [
    {
     "name": "stdout",
     "output_type": "stream",
     "text": [
      "Current  recursion limit :\n",
      "3000\n"
     ]
    }
   ],
   "source": [
    "import sys\n",
    "print(\"Current  recursion limit :\")\n",
    "print(sys.getrecursionlimit())"
   ]
  },
  {
   "cell_type": "code",
   "execution_count": null,
   "id": "3e2798fb",
   "metadata": {},
   "outputs": [],
   "source": []
  }
 ],
 "metadata": {
  "kernelspec": {
   "display_name": "Python 3 (ipykernel)",
   "language": "python",
   "name": "python3"
  },
  "language_info": {
   "codemirror_mode": {
    "name": "ipython",
    "version": 3
   },
   "file_extension": ".py",
   "mimetype": "text/x-python",
   "name": "python",
   "nbconvert_exporter": "python",
   "pygments_lexer": "ipython3",
   "version": "3.10.9"
  }
 },
 "nbformat": 4,
 "nbformat_minor": 5
}
